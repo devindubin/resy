{
 "cells": [
  {
   "cell_type": "code",
   "execution_count": 1,
   "metadata": {},
   "outputs": [],
   "source": [
    "import datetime\n",
    "from utils import get_venues, scan, get_details, snipe\n",
    "import pandas as pd\n",
    "NOW = datetime.datetime.now(datetime.timezone(datetime.timedelta(hours=-4)))\n"
   ]
  },
  {
   "cell_type": "code",
   "execution_count": 2,
   "metadata": {},
   "outputs": [],
   "source": [
    "#Beekman\n",
    "id_1 = 40703\n",
    "#Carbone\n",
    "id_2 = 6194\n",
    "\n",
    "#Desired Date\n",
    "day = datetime.datetime(2023,2,24,18)\n",
    "\n",
    "#Party Size\n",
    "party_size = 2"
   ]
  },
  {
   "cell_type": "code",
   "execution_count": 4,
   "metadata": {},
   "outputs": [
    {
     "name": "stdout",
     "output_type": "stream",
     "text": [
      "{'lat': '40.7113', 'long': '-74.0077', 'day': '2023-02-22', 'party_size': 2, 'venue_id': 40703, 'limit': None, 'bookmark': None}\n",
      "2023-02-22 17:30:00\n",
      "2023-02-22 18:30:00\n",
      "5\n",
      "False\n",
      "{'found': True, 'booked': False, 'details': {}}\n",
      "[\"While you won't be charged if you need to cancel, we ask that you do so at least 24 hours in advance.\"]\n",
      "201\n",
      "{'found': True, 'booked': True, 'details': {'code': 201, 'data': {'resy_token': 'bkh9YeU0anQINF9rPDV2nt4ghoG398RT3JmmAcw4E7M6MDl9giDdumqdXP23D8EqRH8tZpWjsLV|EVcnx2CJyvzF2cy2exP5ojMZRBvSUac=-2d3902ee65f087d3deb7991e878dbe24752b35d923bdb5b0df5ed558', 'reservation_id': 386517640}}}\n"
     ]
    },
    {
     "data": {
      "text/plain": [
       "{'retry': False,\n",
       " 'details': {'code': 201,\n",
       "  'data': {'resy_token': 'bkh9YeU0anQINF9rPDV2nt4ghoG398RT3JmmAcw4E7M6MDl9giDdumqdXP23D8EqRH8tZpWjsLV|EVcnx2CJyvzF2cy2exP5ojMZRBvSUac=-2d3902ee65f087d3deb7991e878dbe24752b35d923bdb5b0df5ed558',\n",
       "   'reservation_id': 386517640}}}"
      ]
     },
     "execution_count": 4,
     "metadata": {},
     "output_type": "execute_result"
    }
   ],
   "source": [
    "scan(venue_id=id_1,party_size=party_size,day=day)"
   ]
  },
  {
   "cell_type": "code",
   "execution_count": null,
   "metadata": {},
   "outputs": [],
   "source": []
  }
 ],
 "metadata": {
  "kernelspec": {
   "display_name": "venv",
   "language": "python",
   "name": "python3"
  },
  "language_info": {
   "codemirror_mode": {
    "name": "ipython",
    "version": 3
   },
   "file_extension": ".py",
   "mimetype": "text/x-python",
   "name": "python",
   "nbconvert_exporter": "python",
   "pygments_lexer": "ipython3",
   "version": "3.10.7"
  },
  "orig_nbformat": 4,
  "vscode": {
   "interpreter": {
    "hash": "097cb76b0a588f204dca8495c5b7b4753ee18bec298a086265d53ec3a1a39384"
   }
  }
 },
 "nbformat": 4,
 "nbformat_minor": 2
}
