{
 "cells": [
  {
   "cell_type": "code",
   "execution_count": 1,
   "metadata": {},
   "outputs": [],
   "source": [
    "import datetime\n",
    "from utils import get_venues, scan\n",
    "NOW = datetime.datetime.now(datetime.timezone(datetime.timedelta(hours=-4)))\n",
    "TWO_WEEKS = NOW + datetime.timedelta(days=14)"
   ]
  },
  {
   "cell_type": "code",
   "execution_count": 4,
   "metadata": {},
   "outputs": [
    {
     "name": "stdout",
     "output_type": "stream",
     "text": [
      "{'lat': '40.7113', 'long': '-74.0077', 'day': '2023-01-16', 'party_size': 2, 'venue_id': 40703, 'limit': None, 'bookmark': None}\n"
     ]
    },
    {
     "data": {
      "text/plain": [
       "'No Reservations Available'"
      ]
     },
     "execution_count": 4,
     "metadata": {},
     "output_type": "execute_result"
    }
   ],
   "source": [
    "scan(venue_id=40703,party_size=2,day=NOW - datetime.timedelta(days=1))"
   ]
  },
  {
   "cell_type": "code",
   "execution_count": null,
   "metadata": {},
   "outputs": [],
   "source": []
  }
 ],
 "metadata": {
  "kernelspec": {
   "display_name": "venv",
   "language": "python",
   "name": "python3"
  },
  "language_info": {
   "codemirror_mode": {
    "name": "ipython",
    "version": 3
   },
   "file_extension": ".py",
   "mimetype": "text/x-python",
   "name": "python",
   "nbconvert_exporter": "python",
   "pygments_lexer": "ipython3",
   "version": "3.10.7"
  },
  "orig_nbformat": 4,
  "vscode": {
   "interpreter": {
    "hash": "097cb76b0a588f204dca8495c5b7b4753ee18bec298a086265d53ec3a1a39384"
   }
  }
 },
 "nbformat": 4,
 "nbformat_minor": 2
}
