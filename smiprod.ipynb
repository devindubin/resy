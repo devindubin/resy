{
 "cells": [
  {
   "cell_type": "code",
   "execution_count": 1,
   "id": "17ef64d2-a386-4e7d-b68f-de27452b8b23",
   "metadata": {},
   "outputs": [],
   "source": [
    "from utils import authenticate, get_venues, get_details, find_no_cancellation_fee, snipe\n",
    "import pandas as pd\n",
    "import re\n",
    "\n",
    "from utils import book_reservation, cancel_reservation\n"
   ]
  },
  {
   "cell_type": "code",
   "execution_count": 2,
   "id": "b936fd35-7e35-415a-a0e0-fa9d5a8cbec5",
   "metadata": {},
   "outputs": [
    {
     "name": "stdout",
     "output_type": "stream",
     "text": [
      "{'lat': '40.7113', 'long': '-74.0077', 'day': '2023-01-20', 'party_size': 2, 'venue_id': None, 'limit': None, 'bookmark': None}\n"
     ]
    }
   ],
   "source": [
    "output = get_venues(day=\"2023-01-20\")\n"
   ]
  },
  {
   "cell_type": "code",
   "execution_count": 7,
   "id": "8ce367db-fba8-418d-8193-4683b3b57d60",
   "metadata": {},
   "outputs": [],
   "source": [
    "data = output.get('data')  # Exclude HTTP Response Code\n",
    "# Split each part of the response into smaller pieces to be dealt with separately, too much data in the response\n",
    "query = data.get('query')\n",
    "bookmark = data.get('bookmark')\n",
    "results = data.get('results')\n"
   ]
  },
  {
   "cell_type": "code",
   "execution_count": 8,
   "id": "ec110214-6a3a-4752-ae01-6d9ea666bcda",
   "metadata": {},
   "outputs": [],
   "source": [
    "results_meta = results.get('meta')\n",
    "venues = results.get('venues')\n"
   ]
  },
  {
   "cell_type": "code",
   "execution_count": 9,
   "id": "500886ec-dc17-4512-bba8-11fbfca23a8b",
   "metadata": {},
   "outputs": [
    {
     "ename": "KeyError",
     "evalue": "'size'",
     "output_type": "error",
     "traceback": [
      "\u001b[1;31m---------------------------------------------------------------------------\u001b[0m",
      "\u001b[1;31mKeyError\u001b[0m                                  Traceback (most recent call last)",
      "File \u001b[1;32mc:\\Users\\Devin\\Desktop\\repos\\resy\\venv\\lib\\site-packages\\pandas\\core\\indexes\\base.py:3803\u001b[0m, in \u001b[0;36mIndex.get_loc\u001b[1;34m(self, key, method, tolerance)\u001b[0m\n\u001b[0;32m   3802\u001b[0m \u001b[39mtry\u001b[39;00m:\n\u001b[1;32m-> 3803\u001b[0m     \u001b[39mreturn\u001b[39;00m \u001b[39mself\u001b[39;49m\u001b[39m.\u001b[39;49m_engine\u001b[39m.\u001b[39;49mget_loc(casted_key)\n\u001b[0;32m   3804\u001b[0m \u001b[39mexcept\u001b[39;00m \u001b[39mKeyError\u001b[39;00m \u001b[39mas\u001b[39;00m err:\n",
      "File \u001b[1;32mc:\\Users\\Devin\\Desktop\\repos\\resy\\venv\\lib\\site-packages\\pandas\\_libs\\index.pyx:138\u001b[0m, in \u001b[0;36mpandas._libs.index.IndexEngine.get_loc\u001b[1;34m()\u001b[0m\n",
      "File \u001b[1;32mc:\\Users\\Devin\\Desktop\\repos\\resy\\venv\\lib\\site-packages\\pandas\\_libs\\index.pyx:165\u001b[0m, in \u001b[0;36mpandas._libs.index.IndexEngine.get_loc\u001b[1;34m()\u001b[0m\n",
      "File \u001b[1;32mpandas\\_libs\\hashtable_class_helper.pxi:5745\u001b[0m, in \u001b[0;36mpandas._libs.hashtable.PyObjectHashTable.get_item\u001b[1;34m()\u001b[0m\n",
      "File \u001b[1;32mpandas\\_libs\\hashtable_class_helper.pxi:5753\u001b[0m, in \u001b[0;36mpandas._libs.hashtable.PyObjectHashTable.get_item\u001b[1;34m()\u001b[0m\n",
      "\u001b[1;31mKeyError\u001b[0m: 'size'",
      "\nThe above exception was the direct cause of the following exception:\n",
      "\u001b[1;31mKeyError\u001b[0m                                  Traceback (most recent call last)",
      "Cell \u001b[1;32mIn[9], line 20\u001b[0m\n\u001b[0;32m     16\u001b[0m     slots_df_3 \u001b[39m=\u001b[39m pd\u001b[39m.\u001b[39mconcat([slots_df_2, slots_df_2[\u001b[39m'\u001b[39m\u001b[39mpayment\u001b[39m\u001b[39m'\u001b[39m]\u001b[39m.\u001b[39mapply(\n\u001b[0;32m     17\u001b[0m         \u001b[39mlambda\u001b[39;00m x: pd\u001b[39m.\u001b[39mSeries(x)\u001b[39m.\u001b[39madd_prefix(\u001b[39m'\u001b[39m\u001b[39mpayment_\u001b[39m\u001b[39m'\u001b[39m))], axis\u001b[39m=\u001b[39m\u001b[39m1\u001b[39m)\n\u001b[0;32m     18\u001b[0m     slots_df_3[\u001b[39m'\u001b[39m\u001b[39mresyId\u001b[39m\u001b[39m'\u001b[39m] \u001b[39m=\u001b[39m venue_id\n\u001b[0;32m     19\u001b[0m     slots_df_4 \u001b[39m=\u001b[39m pd\u001b[39m.\u001b[39mconcat(\n\u001b[1;32m---> 20\u001b[0m         [slots_df_3,slots_df_3[\u001b[39m'\u001b[39;49m\u001b[39msize\u001b[39;49m\u001b[39m'\u001b[39;49m]\u001b[39m.\u001b[39mapply(\u001b[39mlambda\u001b[39;00m x: pd\u001b[39m.\u001b[39mSeries(x)\u001b[39m.\u001b[39madd_prefix(\u001b[39m'\u001b[39m\u001b[39msize_\u001b[39m\u001b[39m'\u001b[39m))], axis \u001b[39m=\u001b[39m \u001b[39m1\u001b[39m\n\u001b[0;32m     21\u001b[0m     )\n\u001b[0;32m     24\u001b[0m \u001b[39melse\u001b[39;00m:\n\u001b[0;32m     25\u001b[0m     slots_df_4\u001b[39m=\u001b[39mpd\u001b[39m.\u001b[39mDataFrame()\n",
      "File \u001b[1;32mc:\\Users\\Devin\\Desktop\\repos\\resy\\venv\\lib\\site-packages\\pandas\\core\\frame.py:3805\u001b[0m, in \u001b[0;36mDataFrame.__getitem__\u001b[1;34m(self, key)\u001b[0m\n\u001b[0;32m   3803\u001b[0m \u001b[39mif\u001b[39;00m \u001b[39mself\u001b[39m\u001b[39m.\u001b[39mcolumns\u001b[39m.\u001b[39mnlevels \u001b[39m>\u001b[39m \u001b[39m1\u001b[39m:\n\u001b[0;32m   3804\u001b[0m     \u001b[39mreturn\u001b[39;00m \u001b[39mself\u001b[39m\u001b[39m.\u001b[39m_getitem_multilevel(key)\n\u001b[1;32m-> 3805\u001b[0m indexer \u001b[39m=\u001b[39m \u001b[39mself\u001b[39;49m\u001b[39m.\u001b[39;49mcolumns\u001b[39m.\u001b[39;49mget_loc(key)\n\u001b[0;32m   3806\u001b[0m \u001b[39mif\u001b[39;00m is_integer(indexer):\n\u001b[0;32m   3807\u001b[0m     indexer \u001b[39m=\u001b[39m [indexer]\n",
      "File \u001b[1;32mc:\\Users\\Devin\\Desktop\\repos\\resy\\venv\\lib\\site-packages\\pandas\\core\\indexes\\base.py:3805\u001b[0m, in \u001b[0;36mIndex.get_loc\u001b[1;34m(self, key, method, tolerance)\u001b[0m\n\u001b[0;32m   3803\u001b[0m     \u001b[39mreturn\u001b[39;00m \u001b[39mself\u001b[39m\u001b[39m.\u001b[39m_engine\u001b[39m.\u001b[39mget_loc(casted_key)\n\u001b[0;32m   3804\u001b[0m \u001b[39mexcept\u001b[39;00m \u001b[39mKeyError\u001b[39;00m \u001b[39mas\u001b[39;00m err:\n\u001b[1;32m-> 3805\u001b[0m     \u001b[39mraise\u001b[39;00m \u001b[39mKeyError\u001b[39;00m(key) \u001b[39mfrom\u001b[39;00m \u001b[39merr\u001b[39;00m\n\u001b[0;32m   3806\u001b[0m \u001b[39mexcept\u001b[39;00m \u001b[39mTypeError\u001b[39;00m:\n\u001b[0;32m   3807\u001b[0m     \u001b[39m# If we have a listlike key, _check_indexing_error will raise\u001b[39;00m\n\u001b[0;32m   3808\u001b[0m     \u001b[39m#  InvalidIndexError. Otherwise we fall through and re-raise\u001b[39;00m\n\u001b[0;32m   3809\u001b[0m     \u001b[39m#  the TypeError.\u001b[39;00m\n\u001b[0;32m   3810\u001b[0m     \u001b[39mself\u001b[39m\u001b[39m.\u001b[39m_check_indexing_error(key)\n",
      "\u001b[1;31mKeyError\u001b[0m: 'size'"
     ]
    }
   ],
   "source": [
    "out = []\n",
    "for venue in venues:\n",
    "\n",
    "    venue_info = venue.get('venue')\n",
    "    venue_name = venue_info.get('name')\n",
    "    venue_location = venue_info.get('location')\n",
    "    venue_id = venue_info.get('id').get('resy')\n",
    "\n",
    "    slots = venue.get('slots')\n",
    "    if slots:\n",
    "        slots_df = pd.DataFrame(slots)\n",
    "        slots_df_1 = pd.concat([slots_df, slots_df['config'].apply(\n",
    "            lambda x: pd.Series(x).add_prefix('config_'))], axis=1)\n",
    "        slots_df_2 = pd.concat([slots_df_1, slots_df_1['date'].apply(\n",
    "            lambda x: pd.Series(x).add_prefix('date_'))], axis=1)\n",
    "        slots_df_3 = pd.concat([slots_df_2, slots_df_2['payment'].apply(\n",
    "            lambda x: pd.Series(x).add_prefix('payment_'))], axis=1)\n",
    "        slots_df_3['resyId'] = venue_id\n",
    "        slots_df_4 = pd.concat(\n",
    "            [slots_df_3,slots_df_3['size'].apply(lambda x: pd.Series(x).add_prefix('size_'))], axis = 1\n",
    "        )\n",
    "        \n",
    "    \n",
    "    else:\n",
    "        slots_df_4=pd.DataFrame()\n",
    "    # slots_df_4 = pd.concat([slots_df_3,slots_df_3['config_token'].apply(lambda x: pd.Series(re.findall(r\"(?<=resy/)\\d+\",x),index=['resyId']))],axis=1)\n",
    "    out.append({'name': venue_name,\n",
    "           'id': venue_id,\n",
    "           'location': venue_location,\n",
    "           'slots': slots_df_4}\n",
    "              )\n"
   ]
  },
  {
   "cell_type": "code",
   "execution_count": 11,
   "id": "8cc4c93e",
   "metadata": {},
   "outputs": [
    {
     "name": "stdout",
     "output_type": "stream",
     "text": [
      "{'name': 'Dinner Party', 'id': 60228, 'location': {'time_zone': 'EST5EDT', 'neighborhood': 'Fort Greene', 'geo': {'lat': 40.6871027663847, 'lon': -73.9747080020124}, 'code': 'ny', 'name': 'New York'}, 'slots':   availability                                             config  \\\n",
      "0    {'id': 3}  {'id': 1053471, 'type': 'Communal', 'token': '...   \n",
      "1    {'id': 3}  {'id': 1053471, 'type': 'Communal', 'token': '...   \n",
      "2    {'id': 3}  {'id': 1053471, 'type': 'Communal', 'token': '...   \n",
      "3    {'id': 3}  {'id': 1053471, 'type': 'Communal', 'token': '...   \n",
      "4    {'id': 3}  {'id': 1053471, 'type': 'Communal', 'token': '...   \n",
      "5    {'id': 3}  {'id': 1053471, 'type': 'Communal', 'token': '...   \n",
      "6    {'id': 3}  {'id': 1053471, 'type': 'Communal', 'token': '...   \n",
      "7    {'id': 3}  {'id': 1053471, 'type': 'Communal', 'token': '...   \n",
      "8    {'id': 3}  {'id': 1053471, 'type': 'Communal', 'token': '...   \n",
      "\n",
      "                                                date  exclusive  \\\n",
      "0  {'end': '2023-01-20 13:30:00', 'start': '2023-...  {'id': 0}   \n",
      "1  {'end': '2023-01-20 13:45:00', 'start': '2023-...  {'id': 0}   \n",
      "2  {'end': '2023-01-20 14:00:00', 'start': '2023-...  {'id': 0}   \n",
      "3  {'end': '2023-01-20 14:15:00', 'start': '2023-...  {'id': 0}   \n",
      "4  {'end': '2023-01-20 14:30:00', 'start': '2023-...  {'id': 0}   \n",
      "5  {'end': '2023-01-20 14:45:00', 'start': '2023-...  {'id': 0}   \n",
      "6  {'end': '2023-01-20 15:00:00', 'start': '2023-...  {'id': 0}   \n",
      "7  {'end': '2023-01-20 15:15:00', 'start': '2023-...  {'id': 0}   \n",
      "8  {'end': '2023-01-20 15:30:00', 'start': '2023-...  {'id': 0}   \n",
      "\n",
      "   is_global_dining_access      floorplan    id  \\\n",
      "0                    False  {'id': 50982}  None   \n",
      "1                    False  {'id': 50982}  None   \n",
      "2                    False  {'id': 50982}  None   \n",
      "3                    False  {'id': 50982}  None   \n",
      "4                    False  {'id': 50982}  None   \n",
      "5                    False  {'id': 50982}  None   \n",
      "6                    False  {'id': 50982}  None   \n",
      "7                    False  {'id': 50982}  None   \n",
      "8                    False  {'id': 50982}  None   \n",
      "\n",
      "                                            market  \\\n",
      "0  {'date': {'off': 1674232200, 'on': 1672462800}}   \n",
      "1  {'date': {'off': 1674233100, 'on': 1672462800}}   \n",
      "2  {'date': {'off': 1674234000, 'on': 1672462800}}   \n",
      "3  {'date': {'off': 1674234900, 'on': 1672462800}}   \n",
      "4  {'date': {'off': 1674235800, 'on': 1672462800}}   \n",
      "5  {'date': {'off': 1674236700, 'on': 1672462800}}   \n",
      "6  {'date': {'off': 1674237600, 'on': 1672462800}}   \n",
      "7  {'date': {'off': 1674238500, 'on': 1672462800}}   \n",
      "8  {'date': {'off': 1674239400, 'on': 1672462800}}   \n",
      "\n",
      "                                          meta  lock  ... payment_venue_share  \\\n",
      "0  {'size': {'assumed': 2}, 'type': {'id': 1}}  None  ...                None   \n",
      "1  {'size': {'assumed': 2}, 'type': {'id': 1}}  None  ...                None   \n",
      "2  {'size': {'assumed': 2}, 'type': {'id': 1}}  None  ...                None   \n",
      "3  {'size': {'assumed': 2}, 'type': {'id': 1}}  None  ...                None   \n",
      "4  {'size': {'assumed': 2}, 'type': {'id': 1}}  None  ...                None   \n",
      "5  {'size': {'assumed': 2}, 'type': {'id': 1}}  None  ...                None   \n",
      "6  {'size': {'assumed': 2}, 'type': {'id': 1}}  None  ...                None   \n",
      "7  {'size': {'assumed': 2}, 'type': {'id': 1}}  None  ...                None   \n",
      "8  {'size': {'assumed': 2}, 'type': {'id': 1}}  None  ...                None   \n",
      "\n",
      "  payment_payment_structure payment_secs_cancel_cut_off  \\\n",
      "0                      None                        7200   \n",
      "1                      None                        7200   \n",
      "2                      None                        7200   \n",
      "3                      None                        7200   \n",
      "4                      None                        7200   \n",
      "5                      None                        7200   \n",
      "6                      None                        7200   \n",
      "7                      None                        7200   \n",
      "8                      None                        7200   \n",
      "\n",
      "  payment_time_cancel_cut_off payment_secs_change_cut_off  \\\n",
      "0                        None                        7200   \n",
      "1                        None                        7200   \n",
      "2                        None                        7200   \n",
      "3                        None                        7200   \n",
      "4                        None                        7200   \n",
      "5                        None                        7200   \n",
      "6                        None                        7200   \n",
      "7                        None                        7200   \n",
      "8                        None                        7200   \n",
      "\n",
      "  payment_time_change_cut_off payment_service_charge_options resyId  size_max  \\\n",
      "0                        None                             []  60228         2   \n",
      "1                        None                             []  60228         2   \n",
      "2                        None                             []  60228         2   \n",
      "3                        None                             []  60228         2   \n",
      "4                        None                             []  60228         2   \n",
      "5                        None                             []  60228         2   \n",
      "6                        None                             []  60228         2   \n",
      "7                        None                             []  60228         2   \n",
      "8                        None                             []  60228         2   \n",
      "\n",
      "  size_min  \n",
      "0        2  \n",
      "1        2  \n",
      "2        2  \n",
      "3        2  \n",
      "4        2  \n",
      "5        2  \n",
      "6        2  \n",
      "7        2  \n",
      "8        2  \n",
      "\n",
      "[9 rows x 42 columns]}\n"
     ]
    }
   ],
   "source": [
    "for place in out:\n",
    "    if place.get('name') == 'Dinner Party':\n",
    "        print(place)"
   ]
  },
  {
   "cell_type": "code",
   "execution_count": 49,
   "id": "ebf3c3f8",
   "metadata": {},
   "outputs": [
    {
     "data": {
      "text/plain": [
       "Index(['availability', 'config', 'date', 'exclusive',\n",
       "       'is_global_dining_access', 'floorplan', 'market', 'meta', 'pacing',\n",
       "       'score', 'shift', 'size', 'status', 'table', 'template', 'time',\n",
       "       'quantity', 'display_config', 'reservation_config', 'payment',\n",
       "       'config_id', 'config_type', 'config_token', 'date_end', 'date_start',\n",
       "       'payment_is_paid', 'payment_service_charge_options', 'resyId',\n",
       "       'size_max', 'size_min'],\n",
       "      dtype='object')"
      ]
     },
     "execution_count": 49,
     "metadata": {},
     "output_type": "execute_result"
    }
   ],
   "source": [
    "resy.keys()"
   ]
  },
  {
   "cell_type": "code",
   "execution_count": 13,
   "id": "569651ce-6246-4e6c-8170-d5ceddb34f85",
   "metadata": {},
   "outputs": [
    {
     "ename": "NameError",
     "evalue": "name 'tests' is not defined",
     "output_type": "error",
     "traceback": [
      "\u001b[1;31m---------------------------------------------------------------------------\u001b[0m",
      "\u001b[1;31mNameError\u001b[0m                                 Traceback (most recent call last)",
      "Cell \u001b[1;32mIn[13], line 6\u001b[0m\n\u001b[0;32m      4\u001b[0m time \u001b[39m=\u001b[39m datetime\u001b[39m.\u001b[39mtime(\u001b[39m7\u001b[39m, \u001b[39m30\u001b[39m)\n\u001b[0;32m      5\u001b[0m combo \u001b[39m=\u001b[39m datetime\u001b[39m.\u001b[39mdatetime\u001b[39m.\u001b[39mcombine(date, time)\n\u001b[1;32m----> 6\u001b[0m slots \u001b[39m=\u001b[39m tests[\u001b[39m0\u001b[39m][\u001b[39m\"\u001b[39m\u001b[39mslots\u001b[39m\u001b[39m\"\u001b[39m]\n\u001b[0;32m      7\u001b[0m party_size \u001b[39m=\u001b[39m \u001b[39m2\u001b[39m\n\u001b[0;32m      8\u001b[0m slots[\u001b[39m\"\u001b[39m\u001b[39mdate_start\u001b[39m\u001b[39m\"\u001b[39m] \u001b[39m=\u001b[39m pd\u001b[39m.\u001b[39mto_datetime(slots[\u001b[39m\"\u001b[39m\u001b[39mdate_start\u001b[39m\u001b[39m\"\u001b[39m])\n",
      "\u001b[1;31mNameError\u001b[0m: name 'tests' is not defined"
     ]
    }
   ],
   "source": [
    "import datetime\n",
    "\n",
    "date = datetime.date(2023,2,1)\n",
    "time = datetime.time(7, 30)\n",
    "combo = datetime.datetime.combine(date, time)\n",
    "slots = tests[0][\"slots\"]\n",
    "party_size = 2\n",
    "slots[\"date_start\"] = pd.to_datetime(slots[\"date_start\"])\n",
    "print(combo + datetime.timedelta(minutes=-30))\n",
    "print(combo + datetime.timedelta(minutes=30))\n",
    "slots[\n",
    "    (slots[\"size_min\"] <= party_size)\n",
    "    & (slots[\"size_max\"] >= party_size)\n",
    "    & (\n",
    "        (slots[\"date_start\"]\n",
    "        >= combo + datetime.timedelta(minutes=-30))\n",
    "        & (slots[\"date_start\"] <= combo + datetime.timedelta(minutes=30))\n",
    "    )\n",
    "]\n",
    "\n"
   ]
  },
  {
   "cell_type": "code",
   "execution_count": 15,
   "id": "b6a91231",
   "metadata": {},
   "outputs": [
    {
     "data": {
      "text/plain": [
       "datetime.datetime(2023, 1, 20, 7, 30)"
      ]
     },
     "execution_count": 15,
     "metadata": {},
     "output_type": "execute_result"
    }
   ],
   "source": [
    "datetime.datetime(2023,1,20,7,30)"
   ]
  },
  {
   "cell_type": "code",
   "execution_count": 14,
   "id": "7758338c-b343-4c02-802b-3f87d49e658d",
   "metadata": {},
   "outputs": [
    {
     "name": "stdout",
     "output_type": "stream",
     "text": [
      "{'lat': '40.7113', 'long': '-74.0077', 'day': <built-in method date of datetime.datetime object at 0x0000024924103B40>, 'party_size': 2, 'venue_id': 60228, 'limit': None, 'bookmark': None}\n"
     ]
    },
    {
     "ename": "AttributeError",
     "evalue": "'str' object has no attribute 'get'",
     "output_type": "error",
     "traceback": [
      "\u001b[1;31m---------------------------------------------------------------------------\u001b[0m",
      "\u001b[1;31mAttributeError\u001b[0m                            Traceback (most recent call last)",
      "Cell \u001b[1;32mIn[14], line 1\u001b[0m\n\u001b[1;32m----> 1\u001b[0m snipe(venue_id\u001b[39m=\u001b[39;49m\u001b[39m60228\u001b[39;49m,dateTime\u001b[39m=\u001b[39;49mdatetime\u001b[39m.\u001b[39;49mdatetime(\u001b[39m2023\u001b[39;49m,\u001b[39m1\u001b[39;49m,\u001b[39m20\u001b[39;49m,\u001b[39m7\u001b[39;49m,\u001b[39m30\u001b[39;49m),party_size\u001b[39m=\u001b[39;49m\u001b[39m2\u001b[39;49m)\n",
      "File \u001b[1;32mc:\\Users\\Devin\\Desktop\\repos\\resy\\utils.py:185\u001b[0m, in \u001b[0;36msnipe\u001b[1;34m(venue_id, dateTime, party_size)\u001b[0m\n\u001b[0;32m    182\u001b[0m out \u001b[39m=\u001b[39m []\n\u001b[0;32m    183\u001b[0m \u001b[39mfor\u001b[39;00m venue \u001b[39min\u001b[39;00m venues:\n\u001b[1;32m--> 185\u001b[0m     venue_info \u001b[39m=\u001b[39m venue\u001b[39m.\u001b[39;49mget(\u001b[39m\"\u001b[39m\u001b[39mvenue\u001b[39m\u001b[39m\"\u001b[39m)\n\u001b[0;32m    186\u001b[0m     venue_name \u001b[39m=\u001b[39m venue_info\u001b[39m.\u001b[39mget(\u001b[39m\"\u001b[39m\u001b[39mname\u001b[39m\u001b[39m\"\u001b[39m)\n\u001b[0;32m    187\u001b[0m     venue_location \u001b[39m=\u001b[39m venue_info\u001b[39m.\u001b[39mget(\u001b[39m\"\u001b[39m\u001b[39mlocation\u001b[39m\u001b[39m\"\u001b[39m)\n",
      "\u001b[1;31mAttributeError\u001b[0m: 'str' object has no attribute 'get'"
     ]
    }
   ],
   "source": [
    "snipe(venue_id=60228,dateTime=datetime.datetime(2023,1,20,7,30),party_size=2)"
   ]
  },
  {
   "cell_type": "code",
   "execution_count": null,
   "id": "c3f22d5b",
   "metadata": {},
   "outputs": [],
   "source": []
  },
  {
   "cell_type": "code",
   "execution_count": null,
   "id": "f9df29a3",
   "metadata": {},
   "outputs": [],
   "source": []
  }
 ],
 "metadata": {
  "kernelspec": {
   "display_name": "venv",
   "language": "python",
   "name": "venv"
  },
  "language_info": {
   "codemirror_mode": {
    "name": "ipython",
    "version": 3
   },
   "file_extension": ".py",
   "mimetype": "text/x-python",
   "name": "python",
   "nbconvert_exporter": "python",
   "pygments_lexer": "ipython3",
   "version": "3.10.7"
  }
 },
 "nbformat": 4,
 "nbformat_minor": 5
}
