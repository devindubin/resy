{
 "cells": [
  {
   "cell_type": "code",
   "execution_count": 1,
   "metadata": {},
   "outputs": [],
   "source": [
    "from utils import get_venues, get_details, find_no_cancellation_fee, snipe, book_reservation, cancel_reservation\n",
    "import pandas as pd\n",
    "import datetime"
   ]
  },
  {
   "cell_type": "code",
   "execution_count": 2,
   "metadata": {},
   "outputs": [
    {
     "name": "stdout",
     "output_type": "stream",
     "text": [
      "2023-01-20 08:00:00\n",
      "{'lat': '40.7113', 'long': '-74.0077', 'day': '2023-01-17', 'party_size': 2, 'venue_id': None, 'limit': 2, 'bookmark': None}\n"
     ]
    }
   ],
   "source": [
    "val = 60228\n",
    "day = datetime.datetime(2023,1,20,8,0)\n",
    "print(day)\n",
    "#get_venues(venue_id=val,day=day)\n",
    "results = get_venues(limit=2)\n"
   ]
  },
  {
   "cell_type": "code",
   "execution_count": 3,
   "metadata": {},
   "outputs": [
    {
     "name": "stdout",
     "output_type": "stream",
     "text": [
      "{'lat': '40.7113', 'long': '-74.0077', 'day': '2023-01-20', 'party_size': 2, 'venue_id': 40703, 'limit': None, 'bookmark': None}\n",
      "2023-01-20 07:30:00\n",
      "2023-01-20 08:30:00\n",
      "{'config_id': 'rgs://resy/40703/1204466/5/2023-01-20/2023-01-20/07:30:00/2/The Bar Room', 'day': '2023-01-20', 'party_size': 2}\n",
      "{'date_expires': '2023-01-17T23:33:31Z', 'value': 'UKpqvIZT8r2kyVhkj5ZX_OK3pqIDpCYiBgoj9Nfs1W0KlhdHYuIkFs_eBiNYLmRBMzJ_0R1AyoQlt7pdPV_yqnjVQdjO_9ezCNJqq0hQl3qacS8vbX09XApgpejBV43BQZKcZOO9W2_GBDVllFiGWZdw0FkEepf|g5e3B8FJR_QaUIr4w5AtrwmzhA2XZDHkMSBejEtd6INLiANWubzqJCUtymNiWi2wBLjUbIddMWTfVilK3kJp9BoEYZkAoyNoXCvhS_WVJU8dBqEPf3D8LeImyZVT5XLKtY3y5a4ldxI|ETN0hC3yUbc1L0GFIU3CUY_2xhBL20zFYPVsK6c_6R07p7m8T7vWa0Ha4FR4sKkZiMur2tFtmErnYa5Aj8TNM95PEmAIZgEbKeBFnIIW5z429a9jabok6hVnAXP9CrzFexwJ9L8rM4qS1VDEja|2rxsW7FqW0rx5Y_PT86K165_ZiEysiXR01ag4AIRtK1R9g0GSn4fk78xLWVeYqVsWmYYhrXVfKGANeGmXlfXdwUUy_O37IdaumWfztc3tfeo5bk8TxIxTDl_Zmv7|YcnzJHj3fx3Y3yWHZqsf3MGmvdonSHUbNoBxafOAwUfd5NVLemvehS_gR_GQVXkoluww6K3tahYIWGzWnVWOqVHPVmGH_gKp1jmM4KUwwG9vnp1EpSI8KuZvov|dwzdCP1_i-8e9a37a5d9f4847e28238d58aec8bb8e5df6de79f26f8f442260afc0'}\n",
      "Job Cancelled\n"
     ]
    }
   ],
   "source": [
    "results = snipe(venue_id=40703,dateTime=day,party_size=2)"
   ]
  },
  {
   "cell_type": "code",
   "execution_count": null,
   "metadata": {},
   "outputs": [],
   "source": []
  },
  {
   "cell_type": "code",
   "execution_count": null,
   "metadata": {},
   "outputs": [],
   "source": [
    "\n"
   ]
  }
 ],
 "metadata": {
  "kernelspec": {
   "display_name": "venv",
   "language": "python",
   "name": "python3"
  },
  "language_info": {
   "codemirror_mode": {
    "name": "ipython",
    "version": 3
   },
   "file_extension": ".py",
   "mimetype": "text/x-python",
   "name": "python",
   "nbconvert_exporter": "python",
   "pygments_lexer": "ipython3",
   "version": "3.10.7 (tags/v3.10.7:6cc6b13, Sep  5 2022, 14:08:36) [MSC v.1933 64 bit (AMD64)]"
  },
  "vscode": {
   "interpreter": {
    "hash": "097cb76b0a588f204dca8495c5b7b4753ee18bec298a086265d53ec3a1a39384"
   }
  }
 },
 "nbformat": 4,
 "nbformat_minor": 4
}
